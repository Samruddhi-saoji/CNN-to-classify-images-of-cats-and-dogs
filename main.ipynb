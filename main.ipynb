{
 "cells": [
  {
   "cell_type": "code",
   "execution_count": 1,
   "metadata": {},
   "outputs": [
    {
     "name": "stdout",
     "output_type": "stream",
     "text": [
      "Found 7998 images belonging to 2 classes.\n",
      "Found 2000 images belonging to 2 classes.\n",
      "Epoch 1/15\n",
      "250/250 [==============================] - 36s 141ms/step - loss: 0.6786 - accuracy: 0.5689 - val_loss: 0.6492 - val_accuracy: 0.6450\n",
      "Epoch 2/15\n",
      "250/250 [==============================] - 30s 120ms/step - loss: 0.6422 - accuracy: 0.6365 - val_loss: 0.6312 - val_accuracy: 0.6345\n",
      "Epoch 3/15\n",
      "250/250 [==============================] - 48s 190ms/step - loss: 0.5888 - accuracy: 0.6865 - val_loss: 0.5681 - val_accuracy: 0.7140\n",
      "Epoch 4/15\n",
      "250/250 [==============================] - 50s 200ms/step - loss: 0.5443 - accuracy: 0.7206 - val_loss: 0.5146 - val_accuracy: 0.7440\n",
      "Epoch 5/15\n",
      "250/250 [==============================] - 49s 195ms/step - loss: 0.5133 - accuracy: 0.7458 - val_loss: 0.4963 - val_accuracy: 0.7565\n",
      "Epoch 6/15\n",
      "250/250 [==============================] - 43s 173ms/step - loss: 0.4871 - accuracy: 0.7634 - val_loss: 0.4951 - val_accuracy: 0.7575\n",
      "Epoch 7/15\n",
      "250/250 [==============================] - 39s 155ms/step - loss: 0.4663 - accuracy: 0.7758 - val_loss: 0.4816 - val_accuracy: 0.7725\n",
      "Epoch 8/15\n",
      "250/250 [==============================] - 39s 158ms/step - loss: 0.4482 - accuracy: 0.7898 - val_loss: 0.5026 - val_accuracy: 0.7570\n",
      "Epoch 9/15\n",
      "250/250 [==============================] - 34s 137ms/step - loss: 0.4331 - accuracy: 0.7942 - val_loss: 0.4751 - val_accuracy: 0.7885\n",
      "Epoch 10/15\n",
      "250/250 [==============================] - 36s 146ms/step - loss: 0.4189 - accuracy: 0.8060 - val_loss: 0.4762 - val_accuracy: 0.7845\n",
      "Epoch 11/15\n",
      "250/250 [==============================] - 35s 141ms/step - loss: 0.4033 - accuracy: 0.8150 - val_loss: 0.4543 - val_accuracy: 0.7900\n",
      "Epoch 12/15\n",
      "250/250 [==============================] - 38s 151ms/step - loss: 0.3867 - accuracy: 0.8281 - val_loss: 0.4633 - val_accuracy: 0.7910\n",
      "Epoch 13/15\n",
      "250/250 [==============================] - 41s 163ms/step - loss: 0.3636 - accuracy: 0.8352 - val_loss: 0.4568 - val_accuracy: 0.8035\n",
      "Epoch 14/15\n",
      "250/250 [==============================] - 37s 148ms/step - loss: 0.3422 - accuracy: 0.8457 - val_loss: 0.4559 - val_accuracy: 0.8060\n",
      "Epoch 15/15\n",
      "250/250 [==============================] - 52s 210ms/step - loss: 0.3335 - accuracy: 0.8450 - val_loss: 0.4736 - val_accuracy: 0.7905\n"
     ]
    },
    {
     "data": {
      "text/plain": [
       "\"\\ndef predict(img) :\\n  ans = cnn.predict(img) #0 or 1\\n\\n  if ans == 1:\\n    prediction = 'dog'\\n  else:\\n    prediction = 'cat'\\n\\n  print(prediction)\\n\""
      ]
     },
     "execution_count": 1,
     "metadata": {},
     "output_type": "execute_result"
    }
   ],
   "source": [
    "from keras.preprocessing.image import ImageDataGenerator\n",
    "from keras import layers, models #to implement CNN\n",
    "\n",
    "\n",
    "############################ Data pre-processing #######################################\n",
    "#training set\n",
    "train_augmentor = ImageDataGenerator(rescale = 1./255, \n",
    " shear_range = 0.2, zoom_range = 0.2, horizontal_flip = True)\n",
    "\n",
    "training_set = train_augmentor.flow_from_directory('C:\\\\Users\\\\Samruddhi\\\\Desktop\\\\Neural Networks\\\\datasets\\\\cats and dogs dataset\\\\dataset\\\\training_set', target_size = (64, 64), batch_size = 32, class_mode = 'binary')\n",
    "\n",
    "\n",
    "#test set\n",
    "#no data augmentation except for feature scaling\n",
    "test_augmentor = ImageDataGenerator(rescale = 1./255)\n",
    "\n",
    "test_set = test_augmentor.flow_from_directory('C:\\\\Users\\\\Samruddhi\\\\Desktop\\\\Neural Networks\\\\datasets\\\\cats and dogs dataset\\\\dataset\\\\test_set', target_size = (64, 64), batch_size = 32, class_mode = 'binary')\n",
    "\n",
    "\n",
    "\n",
    "############################ building the CNN #######################################\n",
    "\n",
    "cnn = models.Sequential()\n",
    "\n",
    "############### add the layers #################\n",
    "#1st convolution\n",
    "cnn.add(layers.Conv2D(filters=32, kernel_size=3, activation='relu', input_shape=[64, 64, 3])) #convolution layer\n",
    "cnn.add(layers.MaxPool2D(pool_size=2, strides=2)) #pooling layer\n",
    "\n",
    "#2nd convolution\n",
    "cnn.add(layers.Conv2D(filters=32, kernel_size=3, activation='relu')) #convolution layer\n",
    "cnn.add(layers.MaxPool2D(pool_size=2, strides=2)) #pooling layer\n",
    "\n",
    "#flattening\n",
    "cnn.add(layers.Flatten())\n",
    "\n",
    "#ann\n",
    "cnn.add(layers.Dense(units=128, activation='relu')) #hidden layer\n",
    "cnn.add(layers.Dense(units=1, activation='sigmoid')) #output layer\n",
    "\n",
    "\n",
    "############### compile the ANN #################\n",
    "cnn.compile(optimizer = 'adam', loss = 'binary_crossentropy', metrics = ['accuracy'])\n",
    "\n",
    "\n",
    "############### training and validating #################\n",
    "cnn.fit(x=training_set, validation_data=test_set, epochs = 15)\n",
    "  # test_set is actually the validation set\n",
    "  # performance metric for validation set is \"accuracy\"\n",
    "\n"
   ]
  },
  {
   "cell_type": "code",
   "execution_count": 11,
   "metadata": {},
   "outputs": [
    {
     "name": "stdout",
     "output_type": "stream",
     "text": [
      "1/1 [==============================] - 0s 25ms/step\n",
      "cat\n"
     ]
    }
   ],
   "source": [
    "############################ testing a single prediction#######################################\n",
    "\n",
    "############### function for testing #################\n",
    "def classify(img) :\n",
    "  prediction = cnn.predict(img) #0 or 1\n",
    "\n",
    "  #training_set.class_indices # {cats : 0 , dogs : 1}\n",
    "  if prediction[0][0] > 0.5:\n",
    "    prediction = 'dog'\n",
    "  else:\n",
    "    prediction = 'cat'\n",
    "\n",
    "  return prediction\n",
    "\n",
    "\n",
    "############### testing #################\n",
    "import numpy as np\n",
    "from keras import utils\n",
    "\n",
    "#pre-process the image\n",
    "input_img = utils.load_img(\"C:\\\\Users\\\\Samruddhi\\\\Desktop\\\\Neural Networks\\\\datasets\\\\cats and dogs dataset\\\\dataset\\\\my images\\\\WhatsApp Image 2023-04-14 at 11.03.50 PM.jpeg\", target_size = (64, 64)) #PIL format\n",
    "input_img = utils.img_to_array(input_img) #predict() method expects a 2D array as input\n",
    "input_img = np.array([input_img])  # Convert single image to a batch.\n",
    "\n",
    "#feature scaling\n",
    "input_img = input_img/255. \n",
    "\n",
    "#predict\n",
    "prediction = classify(input_img)\n",
    "print(prediction)"
   ]
  }
 ],
 "metadata": {
  "kernelspec": {
   "display_name": "Python 3",
   "language": "python",
   "name": "python3"
  },
  "language_info": {
   "codemirror_mode": {
    "name": "ipython",
    "version": 3
   },
   "file_extension": ".py",
   "mimetype": "text/x-python",
   "name": "python",
   "nbconvert_exporter": "python",
   "pygments_lexer": "ipython3",
   "version": "3.9.2"
  },
  "orig_nbformat": 4
 },
 "nbformat": 4,
 "nbformat_minor": 2
}
